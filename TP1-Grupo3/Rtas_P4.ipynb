{
 "cells": [
  {
   "cell_type": "code",
   "execution_count": 22,
   "id": "9229c59f-3a04-44f8-b8b0-ee3c5bab9e62",
   "metadata": {},
   "outputs": [
    {
     "data": {
      "text/html": [
       "\n",
       "<h1>Reporte de esta parte B</h1>\n",
       "<h3 style=\"color: navy;\">Punto 1</h3>\n",
       "<p> \n",
       "Inserten una captura de pantalla de la pagina del diario extranjero y en Argentina de las cuales hacen el ejercicio. \n",
       "Esto servirá al momento de la corrección para verificar que los links obtenidos hacen referencia a las noticias de ese día y hora.\n",
       "</p>\n"
      ],
      "text/plain": [
       "<IPython.core.display.HTML object>"
      ]
     },
     "metadata": {},
     "output_type": "display_data"
    }
   ],
   "source": [
    "from IPython.display import display, HTML, Image\n",
    "import requests\n",
    "from io import BytesIO\n",
    "\n",
    "\n",
    "html_texto = \"\"\"\n",
    "<h1>Reporte de esta parte B</h1>\n",
    "<h3 style=\"color: navy;\">Punto 1</h3>\n",
    "<p> \n",
    "Inserten una captura de pantalla de la pagina del diario extranjero y en Argentina de las cuales hacen el ejercicio. \n",
    "Esto servirá al momento de la corrección para verificar que los links obtenidos hacen referencia a las noticias de ese día y hora.\n",
    "</p>\n",
    "\"\"\"\n",
    "display(HTML(html_texto))\n"
   ]
  },
  {
   "cell_type": "code",
   "execution_count": 18,
   "id": "99f01548-0ae3-4211-b168-8658b32369c1",
   "metadata": {},
   "outputs": [
    {
     "data": {
      "text/html": [
       "<img src=\"https://raw.githubusercontent.com/RafaelPCh/BigDataUBA-Grupo3/main/TP1-Grupo3/LPO_1.jpg\" width=\"500\"/>"
      ],
      "text/plain": [
       "<IPython.core.display.Image object>"
      ]
     },
     "metadata": {},
     "output_type": "display_data"
    },
    {
     "data": {
      "text/html": [
       "<img src=\"https://raw.githubusercontent.com/RafaelPCh/BigDataUBA-Grupo3/main/TP1-Grupo3/el_pais1.jpg\" width=\"500\"/>"
      ],
      "text/plain": [
       "<IPython.core.display.Image object>"
      ]
     },
     "metadata": {},
     "output_type": "display_data"
    }
   ],
   "source": [
    "\n",
    "\n",
    "# URL de las imagenes\n",
    "url1 = \"https://raw.githubusercontent.com/RafaelPCh/BigDataUBA-Grupo3/main/TP1-Grupo3/LPO_1.jpg\"\n",
    "url2 = \"https://raw.githubusercontent.com/RafaelPCh/BigDataUBA-Grupo3/main/TP1-Grupo3/el_pais1.jpg\"\n",
    "\n",
    "\n",
    "display(Image(url=url1, width=500))\n",
    "\n",
    "display(Image(url=url2, width=500))\n",
    "\n",
    "\n",
    "\n",
    "\n"
   ]
  },
  {
   "cell_type": "code",
   "execution_count": 23,
   "id": "d93aa534-52a9-40d0-91e8-f083891e6d7d",
   "metadata": {},
   "outputs": [
    {
     "data": {
      "text/html": [
       "\n",
       "<h3 style=\"color: navy;\">Punto 2</h3>\n",
       "<p> \n",
       "Comenten brevemente (1 párrafo) las diferencias/similitudes al extraer titulares en diarios de Argentina versus diario extranjero\n",
       "</p>\n"
      ],
      "text/plain": [
       "<IPython.core.display.HTML object>"
      ]
     },
     "metadata": {},
     "output_type": "display_data"
    }
   ],
   "source": [
    "html_texto = \"\"\"\n",
    "<h3 style=\"color: navy;\">Punto 2</h3>\n",
    "<p> \n",
    "Comenten brevemente (1 párrafo) las diferencias/similitudes al extraer titulares en diarios de Argentina versus diario extranjero\n",
    "</p>\n",
    "\"\"\"\n",
    "display(HTML(html_texto))\n",
    "\n",
    "\n"
   ]
  },
  {
   "cell_type": "code",
   "execution_count": 25,
   "id": "c260601e-7866-463e-b8c5-45d1bd5b0cd0",
   "metadata": {},
   "outputs": [
    {
     "data": {
      "text/html": [
       "\n",
       "<p> Los diarios a los que accedí se parecen bastante en su diseño. Tanto en el país como en el extranjero \n",
       "encontré diarios que se protegen y bloquean su contenido para este tipo de actividades. \n",
       "</p>\n"
      ],
      "text/plain": [
       "<IPython.core.display.HTML object>"
      ]
     },
     "metadata": {},
     "output_type": "display_data"
    }
   ],
   "source": [
    "html_texto = \"\"\"\n",
    "<p> Los diarios a los que accedí se parecen bastante en su diseño. Y los busqué de esa manera porque \n",
    "tanto en el país como en el extranjero se protegen y bloquean su contenido para este tipo de actividades. \n",
    "</p>\n",
    "\"\"\"\n",
    "display(HTML(html_texto))"
   ]
  },
  {
   "cell_type": "code",
   "execution_count": 24,
   "id": "c2d27b5f-0f32-4640-8c95-3582416efebb",
   "metadata": {},
   "outputs": [
    {
     "data": {
      "text/html": [
       "\n",
       "<h3 style=\"color: navy;\">Punto 3</h3>\n",
       "<p> \n",
       "Comenten brevemente (1 párrafo) las dificultades y cómo resolvieron dichas dificultades.\n",
       "</p>\n"
      ],
      "text/plain": [
       "<IPython.core.display.HTML object>"
      ]
     },
     "metadata": {},
     "output_type": "display_data"
    }
   ],
   "source": [
    "html_texto = \"\"\"\n",
    "<h3 style=\"color: navy;\">Punto 3</h3>\n",
    "<p> \n",
    "Comenten brevemente (1 párrafo) las dificultades y cómo resolvieron dichas dificultades.\n",
    "</p>\n",
    "\"\"\"\n",
    "display(HTML(html_texto))\n"
   ]
  },
  {
   "cell_type": "code",
   "execution_count": 26,
   "id": "9668b255-5803-4f96-9e57-568df73193fe",
   "metadata": {},
   "outputs": [
    {
     "data": {
      "text/html": [
       "\n",
       "\n",
       "<p> Como se describe en el punto 2, algunos diarios bloqueban el contenido, piden membresia o el contenido dinamico \n",
       "hacian dificil el acceso pero busque diarios que no sean tan cargados en su contenido.\n",
       "Respecto a la dificultad del lenguaje, comencé replicando los codigos de la teoria y \n",
       "buscando en internet formas alternativas que me ayuden \n",
       "</p>\n"
      ],
      "text/plain": [
       "<IPython.core.display.HTML object>"
      ]
     },
     "metadata": {},
     "output_type": "display_data"
    }
   ],
   "source": [
    "html_texto = \"\"\"\n",
    "\n",
    "<p> Como se describe en el punto 2, algunos diarios bloqueban el contenido, piden membresia o el contenido dinamico \n",
    "hacian dificil el acceso pero busque diarios que no sean tan cargados en su contenido.\n",
    "Respecto a la dificultad del lenguaje, comencé replicando los codigos de la teoria y \n",
    "buscando en internet formas alternativas que me ayuden \n",
    "</p>\n",
    "\"\"\"\n",
    "display(HTML(html_texto))\n"
   ]
  },
  {
   "cell_type": "code",
   "execution_count": null,
   "id": "5b14a171-ddfe-493a-b925-b250b70acd90",
   "metadata": {},
   "outputs": [],
   "source": []
  }
 ],
 "metadata": {
  "kernelspec": {
   "display_name": "Python [conda env:base] *",
   "language": "python",
   "name": "conda-base-py"
  },
  "language_info": {
   "codemirror_mode": {
    "name": "ipython",
    "version": 3
   },
   "file_extension": ".py",
   "mimetype": "text/x-python",
   "name": "python",
   "nbconvert_exporter": "python",
   "pygments_lexer": "ipython3",
   "version": "3.13.5"
  }
 },
 "nbformat": 4,
 "nbformat_minor": 5
}
