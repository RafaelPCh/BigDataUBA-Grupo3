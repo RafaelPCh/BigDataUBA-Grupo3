{
 "cells": [
  {
   "cell_type": "markdown",
   "metadata": {
    "collapsed": true,
    "id": "Dh8MkXaG-c9Y",
    "jupyter": {
     "outputs_hidden": true
    }
   },
   "source": [
    "# Big Data y Machine Learning (UBA) -  2025\n",
    "\n",
    "## Trabajo Práctico 1: Jugando con APIs y WebScraping "
   ]
  },
  {
   "cell_type": "markdown",
   "metadata": {
    "id": "RhBlm6mZ-c9e"
   },
   "source": [
    "### Reglas de formato y presentación\n",
    "- El trabajo debe estar debidamente documentado comentado (utilizando #) para que tanto los docentes como sus compañeros puedan comprender el código fácilmente.\n",
    "\n",
    "- El mismo debe ser completado en este Jupyter Notebook y entregado como tal, es decir en un archivo .ipynb\n"
   ]
  },
  {
   "cell_type": "markdown",
   "metadata": {
    "id": "ZEjGaa4U-c9g"
   },
   "source": [
    "### Fecha de entrega:\n",
    "<font color=red>Viernes 5 de Septiembre a las 13:00 hs</font> "
   ]
  },
  {
   "cell_type": "markdown",
   "metadata": {
    "id": "N9TU2y7E-c9h"
   },
   "source": [
    "### Modalidad de entrega\n",
    "- Al finalizar el trabajo práctico deben hacer un último <i>commit</i> en su repositorio de GitHub llamado “Entrega final del tp”. \n",
    "- Asegurense de haber creado una carpeta llamada TP1. Este Jupyter Notebook y el correspondiente al TP1 deben estar dentro de esa carpeta.\n",
    "- También deben enviar el link de su repositorio -para que pueda ser clonado y corregido- a mi correo 25RO35480961@campus.economicas.uba.ar. Usar de asunto de email <i>\"Big Data - TP 1 - Grupo #\"</i> y nombrar el archivo <i>\"TP1_Grupo #\"</i> donde # es el número de grupo que le fue asignado.\n",
    "- La última versión en el repositorio es la que será evaluada. Por lo que es importante que: \n",
    "    - No envien el correo hasta no haber terminado y estar seguros de que han hecho el <i>commit y push</i> a la versión final que quieren entregar. \n",
    "    - No hagan nuevos <i>push</i> despues de haber entregado su versión final. Esto generaría confusión acerca de que versión es la que quieren que se les corrija.\n",
    "- En resumen, la carpeta del repositorio debe incluir:\n",
    "    - El codigo\n",
    "    - Un documento Word (Parte A) donde esten las figuras y una breve descripción de las mismas.\n",
    "    - El excel con los links webscrappeados (Parte B)"
   ]
  },
  {
   "cell_type": "markdown",
   "metadata": {},
   "source": [
    "### Parte A"
   ]
  },
  {
   "cell_type": "markdown",
   "metadata": {
    "id": "ZXbrPraa-c9i"
   },
   "source": [
    "#### Ejercicio 1 - Jugando con APIs\n",
    "Usando la API del Series de Tiempo de la Republica Argentina [link](https://datosgobar.github.io/series-tiempo-ar-api/applications/) , obtener dos series de indicadores del Ministerio de Agricultura, Ganadería y Pesca. En total, dicho Ministerio tiene 72 series anuales y pueden buscar dos serie de indicadores de su interés."
   ]
  },
  {
   "cell_type": "code",
   "execution_count": 10,
   "metadata": {},
   "outputs": [
    {
     "name": "stdout",
     "output_type": "stream",
     "text": [
      "   indice_tiempo  soja_hectareas\n",
      "0     1979-01-01      2100000.00\n",
      "1     1980-01-01      1925000.00\n",
      "2     1981-01-01      2040000.00\n",
      "3     1982-01-01      2362000.00\n",
      "4     1983-01-01      2920000.00\n",
      "5     1984-01-01      3300000.00\n",
      "6     1985-01-01      3340000.00\n",
      "7     1986-01-01      3700000.00\n",
      "8     1987-01-01      4413000.00\n",
      "9     1988-01-01      4670000.00\n",
      "10    1989-01-01      5100000.00\n",
      "11    1990-01-01      4966600.00\n",
      "12    1991-01-01      5004000.00\n",
      "13    1992-01-01      5319660.00\n",
      "14    1993-01-01      5817490.00\n",
      "15    1994-01-01      6011240.00\n",
      "16    1995-01-01      6002155.00\n",
      "17    1996-01-01      6669500.00\n",
      "18    1997-01-01      7176250.00\n",
      "19    1998-01-01      8400000.00\n",
      "20    1999-01-01      8790500.00\n",
      "21    2000-01-01     10665000.00\n",
      "22    2001-01-01     11639000.00\n",
      "23    2002-01-01     12607000.00\n",
      "24    2003-01-01     14525000.00\n",
      "25    2004-01-01     14400000.00\n",
      "26    2005-01-01     15329000.00\n",
      "27    2006-01-01     16141000.00\n",
      "28    2007-01-01     16600000.00\n",
      "29    2008-01-01     18000000.00\n",
      "30    2009-01-01     18860000.00\n",
      "31    2010-01-01     18885000.00\n",
      "32    2011-01-01     18670000.00\n",
      "33    2012-01-01     20000000.00\n",
      "34    2013-01-01     19700000.00\n",
      "35    2014-01-01     19790000.00\n",
      "36    2015-01-01     20479000.00\n",
      "37    2016-01-01     18057000.00\n",
      "38    2017-01-01     17260000.00\n",
      "39    2018-01-01     17000000.00\n",
      "40    2019-01-01     16900000.00\n",
      "41    2020-01-01     16650000.00\n",
      "42    2021-01-01     16094000.00\n",
      "43    2022-01-01     15978770.00\n",
      "44    2023-01-01     16564540.00\n",
      "45    2024-01-01     18000000.00\n",
      "   indice_tiempo  trigo_hectareas\n",
      "0     1979-01-01       5000000.00\n",
      "1     1980-01-01       6196000.00\n",
      "2     1981-01-01       6566000.00\n",
      "3     1982-01-01       7410000.00\n",
      "4     1983-01-01       7200000.00\n",
      "5     1984-01-01       6000000.00\n",
      "6     1985-01-01       5700000.00\n",
      "7     1986-01-01       5000000.00\n",
      "8     1987-01-01       4850000.00\n",
      "9     1988-01-01       4750000.00\n",
      "10    1989-01-01       5500000.00\n",
      "11    1990-01-01       6178400.00\n",
      "12    1991-01-01       4750850.00\n",
      "13    1992-01-01       4547700.00\n",
      "14    1993-01-01       4910000.00\n",
      "15    1994-01-01       5308000.00\n",
      "16    1995-01-01       5087800.00\n",
      "17    1996-01-01       7366850.00\n",
      "18    1997-01-01       5918665.00\n",
      "19    1998-01-01       5453250.00\n",
      "20    1999-01-01       6300000.00\n",
      "21    2000-01-01       6497000.00\n",
      "22    2001-01-01       7109000.00\n",
      "23    2002-01-01       6300000.00\n",
      "24    2003-01-01       6040000.00\n",
      "25    2004-01-01       6260000.00\n",
      "26    2005-01-01       5222000.00\n",
      "27    2006-01-01       5676000.00\n",
      "28    2007-01-01       5948000.00\n",
      "29    2008-01-01       4732000.00\n",
      "30    2009-01-01       3556000.00\n",
      "31    2010-01-01       4580000.00\n",
      "32    2011-01-01       4630000.00\n",
      "33    2012-01-01       3160000.00\n",
      "34    2013-01-01       3650000.00\n",
      "35    2014-01-01       5260000.00\n",
      "36    2015-01-01       4380000.00\n",
      "37    2016-01-01       6360000.00\n",
      "38    2017-01-01       5930000.00\n",
      "39    2018-01-01       6290000.00\n",
      "40    2019-01-01       6950000.00\n",
      "41    2020-01-01       6700000.00\n",
      "42    2021-01-01       6750000.00\n",
      "43    2022-01-01       5907290.00\n",
      "44    2023-01-01       5916680.00\n",
      "45    2024-01-01       6500000.00\n",
      "46    2025-01-01       6600000.00\n"
     ]
    }
   ],
   "source": [
    "# Resolver acá\n",
    "# Importamos las librerias que vamos a utiliizar para este punto \n",
    "\n",
    "import pandas as pd\n",
    "import matplotlib.pyplot as plt \n",
    "import os\n",
    "import requests\n",
    "import urllib.parse\n",
    "import matplotlib.dates as mdates\n",
    "\n",
    "### Funcion para llamar a la api de Series de Tiempo de la Republica Argentina\n",
    "def get_api_call(ids, **kwargs):\n",
    "    API_BASE_URL = \"https://apis.datos.gob.ar/series/api/\"\n",
    "    kwargs[\"ids\"] = \",\".join(ids)\n",
    "    return \"{}{}?{}\".format(API_BASE_URL, \"series\", urllib.parse.urlencode(kwargs))\n",
    "\n",
    "###Creamos los dataframes con las series de faena de cabezas de vacunas y faena de cabezas porcinas \n",
    "df_trigo = pd.read_csv(get_api_call([\"34.1_THTRI_0_P_15\"], format= \"csv\", collapse = \"year\"))\n",
    "df_soja = pd.read_csv(get_api_call([\"34.1_SHSOJ_0_P_14\"], format= \"csv\", collapse = \"year\"))\n",
    "\n",
    "##### Hacemos print a las series\n",
    "print(df_soja)\n",
    "print(df_trigo)\n",
    "    "
   ]
  },
  {
   "cell_type": "markdown",
   "metadata": {},
   "source": [
    "#### Ejercicio 2 - Repaso de Pandas\n",
    "Realicen una estadistica descriptiva ambas series de indicadores del Ministerio de Ganaderia y  presente en una tabla en su reporte. Dicha tabla debe mostrar: numero de observaciones, media, desvío standard, min, p25, mediana, p75 y max. Comente la tabla en **el reporte**."
   ]
  },
  {
   "cell_type": "code",
   "execution_count": 9,
   "metadata": {},
   "outputs": [
    {
     "name": "stdout",
     "output_type": "stream",
     "text": [
      "   indice_tiempo  soja_hectareas  trigo_hectareas\n",
      "0     1979-01-01      2100000.00       5000000.00\n",
      "1     1980-01-01      1925000.00       6196000.00\n",
      "2     1981-01-01      2040000.00       6566000.00\n",
      "3     1982-01-01      2362000.00       7410000.00\n",
      "4     1983-01-01      2920000.00       7200000.00\n",
      "5     1984-01-01      3300000.00       6000000.00\n",
      "6     1985-01-01      3340000.00       5700000.00\n",
      "7     1986-01-01      3700000.00       5000000.00\n",
      "8     1987-01-01      4413000.00       4850000.00\n",
      "9     1988-01-01      4670000.00       4750000.00\n",
      "10    1989-01-01      5100000.00       5500000.00\n",
      "11    1990-01-01      4966600.00       6178400.00\n",
      "12    1991-01-01      5004000.00       4750850.00\n",
      "13    1992-01-01      5319660.00       4547700.00\n",
      "14    1993-01-01      5817490.00       4910000.00\n",
      "15    1994-01-01      6011240.00       5308000.00\n",
      "16    1995-01-01      6002155.00       5087800.00\n",
      "17    1996-01-01      6669500.00       7366850.00\n",
      "18    1997-01-01      7176250.00       5918665.00\n",
      "19    1998-01-01      8400000.00       5453250.00\n",
      "20    1999-01-01      8790500.00       6300000.00\n",
      "21    2000-01-01     10665000.00       6497000.00\n",
      "22    2001-01-01     11639000.00       7109000.00\n",
      "23    2002-01-01     12607000.00       6300000.00\n",
      "24    2003-01-01     14525000.00       6040000.00\n",
      "25    2004-01-01     14400000.00       6260000.00\n",
      "26    2005-01-01     15329000.00       5222000.00\n",
      "27    2006-01-01     16141000.00       5676000.00\n",
      "28    2007-01-01     16600000.00       5948000.00\n",
      "29    2008-01-01     18000000.00       4732000.00\n",
      "30    2009-01-01     18860000.00       3556000.00\n",
      "31    2010-01-01     18885000.00       4580000.00\n",
      "32    2011-01-01     18670000.00       4630000.00\n",
      "33    2012-01-01     20000000.00       3160000.00\n",
      "34    2013-01-01     19700000.00       3650000.00\n",
      "35    2014-01-01     19790000.00       5260000.00\n",
      "36    2015-01-01     20479000.00       4380000.00\n",
      "37    2016-01-01     18057000.00       6360000.00\n",
      "38    2017-01-01     17260000.00       5930000.00\n",
      "39    2018-01-01     17000000.00       6290000.00\n",
      "40    2019-01-01     16900000.00       6950000.00\n",
      "41    2020-01-01     16650000.00       6700000.00\n",
      "42    2021-01-01     16094000.00       6750000.00\n",
      "43    2022-01-01     15978770.00       5907290.00\n",
      "44    2023-01-01     16564540.00       5916680.00\n",
      "45    2024-01-01     18000000.00       6500000.00\n",
      "       soja_hectareas  trigo_hectareas\n",
      "count           46.00            46.00\n",
      "mean      11278732.72       5658640.98\n",
      "std        6456155.25       1001537.80\n",
      "min        1925000.00       3160000.00\n",
      "25%        5028000.00       4932500.00\n",
      "50%       12123000.00       5911985.00\n",
      "75%       16975000.00       6300000.00\n",
      "max       20479000.00       7410000.00\n"
     ]
    }
   ],
   "source": [
    "# Resolver acá\n",
    "### Juntamos las dos bases de datos en una sola. Ambas son del mismo periodo y con la misma frecuencia\n",
    "df = df_soja.merge(df_trigo)\n",
    "###Armamos la tabla de estadisticas descriptivas\n",
    "pd.set_option('display.float_format', '{:.2f}'.format)\n",
    "analisis_descriptivo = df.describe()\n",
    "print(df)\n",
    "print(analisis_descriptivo)"
   ]
  },
  {
   "cell_type": "markdown",
   "metadata": {},
   "source": [
    "#### Ejercicio 3 - Practicando con Matplotlib\n",
    "Armen dos gráficos de tendencia distintos usando la librería Matplotlib (repasen Clase 3). Uno programandolo con el estilo *pyplot* y otro gráfico de estilo *orientada a objetos*.\n",
    "\n",
    "Recuerde los principios de visualización de datos y comente dichas figuras en su reporte."
   ]
  },
  {
   "cell_type": "code",
   "execution_count": 12,
   "metadata": {},
   "outputs": [
    {
     "data": {
      "image/png": "[encoded data removed]",
      "text/plain": [
       "<Figure size 640x480 with 1 Axes>"
      ]
     },
     "metadata": {},
     "output_type": "display_data"
    }
   ],
   "source": [
    "# Definimos los vectores para hacer el gráfico\n",
    "x1 = pd.to_datetime(df[\"indice_tiempo\"])\n",
    "y1 = df[\"soja_hectareas\"]\n",
    "y2 = df[\"trigo_hectareas\"]\n",
    "\n",
    "#Armamos el gráfico\n",
    "plt.plot(x1, y1, label=\"Soja\") # serie 1\n",
    "plt.plot(x1, y2, label=\"Trigo\")# serie 2\n",
    "\n",
    "#Hacemos que el eje \"y\" no este con notacion cientifica\n",
    "plt.ticklabel_format(style='plain', axis='y')\n",
    "# Agrega etiquetas y título para mayor claridad\n",
    "plt.title('Superficie sembrada de trigo y soja ')\n",
    "plt.legend()\n",
    "plt.xlabel('Año')\n",
    "plt.ylabel('Hectareas')\n",
    "\n",
    "# Muestra el gráfico\n",
    "plt.show()"
   ]
  },
  {
   "cell_type": "code",
   "execution_count": null,
   "metadata": {},
   "outputs": [],
   "source": [
    "# Resolver acá estilo orientado-objetos \n",
    "# Tip: aprovechar este estilo de programar una figura para hacerlo más lindo \n"
   ]
  },
  {
   "cell_type": "markdown",
   "metadata": {},
   "source": [
    "### Parte B"
   ]
  },
  {
   "cell_type": "markdown",
   "metadata": {},
   "source": [
    "#### Ejercicio 4 - Documentando noticias locales y en el extranjero\n",
    "Eligan dos sitios web de noticias: uno de Argentina y uno del extranjero (puede ser en castellano o en inglés como el *New York Times*).\n",
    "\n",
    "Utilicen herramientas de webscraping para obtener los **links** de las noticias de la portada en ambos diarios. Guarden cada titular con los links obtenidos en un dataframe. Por lo tanto, debe quedarles un dataframe de 4 columnas: una columna para noticias locales, otra para su link, otra columna de noticias extranjeras y una ultima columna de sus links. Luego, expórtenlo a un archivo de excel.\n",
    "\n",
    "En el reporte este esta parte B:\n",
    "1) Inserten una captura de pantalla de la pagina del diario extranjero y en Argentina de las cuales hacen el ejercicio de extraer titulares y sus links correspondientes. Esto servirá al momento de la corrección para verificar que los links obtenidos hacen referencia a las noticias de ese día y hora.\n",
    "2) Comenten brevemente (1 párrafo) las diferencias/similitudes al extraer titulares en diarios de Argentina versus diario extranjero\n",
    "3) Comenten brevemente (1 párrafo) las dificultades y cómo resolvieron dichas dificultades.\n",
    "\n",
    "*Nota*: es posible que logren obtener los links a las noticias sin el dominio: por ejemplo \"https://www.lanacion.com.ar/\". De ser así, concatenen el dominio a la ruta del link obtenido, tal que se obtenga un link al que se pueda acceder. Es decir, que las cadenas de caracteres finales tendrán la forma: https://www.lanacion.com.ar/*texto_obtenido*)"
   ]
  },
  {
   "cell_type": "code",
   "execution_count": null,
   "metadata": {},
   "outputs": [],
   "source": [
    "# Resolver acá\n"
   ]
  }
 ],
 "metadata": {
  "anaconda-cloud": {},
  "colab": {
   "name": "TP1 - Parte 1.ipynb",
   "provenance": []
  },
  "kernelspec": {
   "display_name": "Python [conda env:base] *",
   "language": "python",
   "name": "conda-base-py"
  },
  "language_info": {
   "codemirror_mode": {
    "name": "ipython",
    "version": 3
   },
   "file_extension": ".py",
   "mimetype": "text/x-python",
   "name": "python",
   "nbconvert_exporter": "python",
   "pygments_lexer": "ipython3",
   "version": "3.13.5"
  }
 },
 "nbformat": 4,
 "nbformat_minor": 4
}
