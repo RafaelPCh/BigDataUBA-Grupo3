{
 "cells": [
  {
   "cell_type": "markdown",
   "metadata": {
    "collapsed": true,
    "id": "Dh8MkXaG-c9Y",
    "jupyter": {
     "outputs_hidden": true
    }
   },
   "source": [
    "# Big Data y Machine Learning (UBA) -  2025\n",
    "\n",
    "## Trabajo Práctico 1: Jugando con APIs y WebScraping "
   ]
  },
  {
   "cell_type": "markdown",
   "metadata": {
    "id": "RhBlm6mZ-c9e"
   },
   "source": [
    "### Reglas de formato y presentación\n",
    "- El trabajo debe estar debidamente documentado comentado (utilizando #) para que tanto los docentes como sus compañeros puedan comprender el código fácilmente.\n",
    "\n",
    "- El mismo debe ser completado en este Jupyter Notebook y entregado como tal, es decir en un archivo .ipynb\n"
   ]
  },
  {
   "cell_type": "markdown",
   "metadata": {
    "id": "ZEjGaa4U-c9g"
   },
   "source": [
    "### Fecha de entrega:\n",
    "<font color=red>Viernes 5 de Septiembre a las 13:00 hs</font> "
   ]
  },
  {
   "cell_type": "markdown",
   "metadata": {
    "id": "N9TU2y7E-c9h"
   },
   "source": [
    "### Modalidad de entrega\n",
    "- Al finalizar el trabajo práctico deben hacer un último <i>commit</i> en su repositorio de GitHub llamado “Entrega final del tp”. \n",
    "- Asegurense de haber creado una carpeta llamada TP1. Este Jupyter Notebook y el correspondiente al TP1 deben estar dentro de esa carpeta.\n",
    "- También deben enviar el link de su repositorio -para que pueda ser clonado y corregido- a mi correo 25RO35480961@campus.economicas.uba.ar. Usar de asunto de email <i>\"Big Data - TP 1 - Grupo #\"</i> y nombrar el archivo <i>\"TP1_Grupo #\"</i> donde # es el número de grupo que le fue asignado.\n",
    "- La última versión en el repositorio es la que será evaluada. Por lo que es importante que: \n",
    "    - No envien el correo hasta no haber terminado y estar seguros de que han hecho el <i>commit y push</i> a la versión final que quieren entregar. \n",
    "    - No hagan nuevos <i>push</i> despues de haber entregado su versión final. Esto generaría confusión acerca de que versión es la que quieren que se les corrija.\n",
    "- En resumen, la carpeta del repositorio debe incluir:\n",
    "    - El codigo\n",
    "    - Un documento Word (Parte A) donde esten las figuras y una breve descripción de las mismas.\n",
    "    - El excel con los links webscrappeados (Parte B)"
   ]
  },
  {
   "cell_type": "markdown",
   "metadata": {},
   "source": [
    "### Parte A"
   ]
  },
  {
   "cell_type": "markdown",
   "metadata": {
    "id": "ZXbrPraa-c9i"
   },
   "source": [
    "#### Ejercicio 1 - Jugando con APIs\n",
    "Usando la API del Series de Tiempo de la Republica Argentina [link](https://datosgobar.github.io/series-tiempo-ar-api/applications/) , obtener dos series de indicadores del Ministerio de Agricultura, Ganadería y Pesca. En total, dicho Ministerio tiene 72 series anuales y pueden buscar dos serie de indicadores de su interés."
   ]
  },
  {
   "cell_type": "code",
   "execution_count": 7,
   "metadata": {},
   "outputs": [
    {
     "name": "stdout",
     "output_type": "stream",
     "text": [
      "   indice_tiempo  vacunos_cabezas\n",
      "0     1980-01-01       3457624.00\n",
      "1     1981-01-01       3662623.75\n",
      "2     1982-01-01       3090512.75\n",
      "3     1983-01-01       2856403.75\n",
      "4     1984-01-01       3055360.00\n",
      "5     1985-01-01       3512727.75\n",
      "6     1986-01-01       3712228.75\n",
      "7     1987-01-01       3219439.50\n",
      "8     1988-01-01       3050000.25\n",
      "9     1989-01-01       3052499.75\n",
      "10    1990-01-01       3355894.50\n",
      "11    1991-01-01       3379078.50\n",
      "12    1992-01-01       3205976.75\n",
      "13    1993-01-01       3304149.75\n",
      "14    1994-01-01       3300089.50\n",
      "15    1995-01-01       3214351.75\n",
      "16    1996-01-01       3229178.75\n",
      "17    1997-01-01       3198679.25\n",
      "18    1998-01-01       2816931.50\n",
      "19    1999-01-01       3036257.25\n",
      "20    2000-01-01       3100058.62\n",
      "21    2001-01-01       2896683.00\n",
      "22    2002-01-01       2874959.50\n",
      "23    2003-01-01       3132908.50\n",
      "24    2004-01-01       3582994.88\n",
      "25    2005-01-01       3587580.00\n",
      "26    2006-01-01       3353790.00\n",
      "27    2007-01-01       3738914.75\n",
      "28    2008-01-01       3665071.00\n",
      "29    2009-01-01       4013263.62\n",
      "30    2010-01-01       2970676.50\n",
      "31    2011-01-01       2715474.06\n",
      "32    2012-01-01       2857197.85\n",
      "33    2013-01-01       3156378.25\n",
      "34    2014-01-01       3025244.75\n",
      "35    2015-01-01       3039150.05\n",
      "36    2016-01-01       2930087.50\n",
      "37    2017-01-01       3148458.80\n",
      "38    2018-01-01       3350034.12\n",
      "39    2019-01-01       3468222.00\n",
      "40    2020-01-01       3502052.38\n",
      "41    2021-01-01       3246808.06\n",
      "42    2022-01-01       3395058.44\n",
      "43    2023-01-01       3628696.38\n",
      "44    2024-01-01       3482940.06\n",
      "   indice_tiempo  porcinos_cabezas\n",
      "0     1980-01-01         589913.75\n",
      "1     1981-01-01         563412.25\n",
      "2     1982-01-01         509476.75\n",
      "3     1983-01-01         400823.00\n",
      "4     1984-01-01         406793.25\n",
      "5     1985-01-01         359182.25\n",
      "6     1986-01-01         386161.00\n",
      "7     1987-01-01         455984.50\n",
      "8     1988-01-01         444849.25\n",
      "9     1989-01-01         371185.00\n",
      "10    1990-01-01         307809.25\n",
      "11    1991-01-01         307055.50\n",
      "12    1992-01-01         337703.25\n",
      "13    1993-01-01         380217.75\n",
      "14    1994-01-01         387319.00\n",
      "15    1995-01-01         342012.75\n",
      "16    1996-01-01         247523.75\n",
      "17    1997-01-01         369230.75\n",
      "18    1998-01-01         445837.25\n",
      "19    1999-01-01         625177.75\n",
      "20    2000-01-01         631379.50\n",
      "21    2001-01-01         613862.75\n",
      "22    2002-01-01         499966.25\n",
      "23    2003-01-01         453231.75\n",
      "24    2004-01-01         537127.25\n",
      "25    2005-01-01         617531.00\n",
      "26    2006-01-01         764494.00\n",
      "27    2007-01-01         800038.75\n",
      "28    2008-01-01         789210.25\n",
      "29    2009-01-01         834939.75\n",
      "30    2010-01-01         808533.25\n",
      "31    2011-01-01         860690.00\n",
      "32    2012-01-01         954689.50\n",
      "33    2013-01-01        1201374.75\n",
      "34    2014-01-01        1277520.75\n",
      "35    2015-01-01        1380928.75\n",
      "36    2016-01-01        1496640.25\n",
      "37    2017-01-01        1581269.69\n",
      "38    2018-01-01        1663272.00\n",
      "39    2019-01-01        1686810.81\n",
      "40    2020-01-01        1751523.50\n",
      "41    2021-01-01        1871067.44\n",
      "42    2022-01-01        1927384.00\n",
      "43    2023-01-01        2021173.38\n",
      "44    2024-01-01        2077814.25\n"
     ]
    }
   ],
   "source": [
    "# Resolver acá\n",
    "# Importamos las librerias que vamos a utiliizar para este punto \n",
    "\n",
    "import pandas as pd\n",
    "import matplotlib.pyplot as plt \n",
    "import os\n",
    "import requests\n",
    "import urllib.parse\n",
    "\n",
    "### Funcion para llamar a la api de Series de Tiempo de la Republica Argentina\n",
    "def get_api_call(ids, **kwargs):\n",
    "    API_BASE_URL = \"https://apis.datos.gob.ar/series/api/\"\n",
    "    kwargs[\"ids\"] = \",\".join(ids)\n",
    "    return \"{}{}?{}\".format(API_BASE_URL, \"series\", urllib.parse.urlencode(kwargs))\n",
    "\n",
    "###Creamos los dataframes con las series de faena de cabezas de vacunas y faena de cabezas porcinas \n",
    "df_trigo = pd.read_csv(get_api_call([\"34.1_THTRI_0_P_15\"], format= \"csv\", collapse = \"year\"))\n",
    "df_soja = pd.read_csv(get_api_call([\"34.1_SHSOJ_0_P_14\"], format= \"csv\", collapse = \"year\"))\n",
    "\n",
    "##### Hacemos print a las series\n",
    "print(df_vacuno)\n",
    "print(df_porcino)\n",
    "    "
   ]
  },
  {
   "cell_type": "markdown",
   "metadata": {},
   "source": [
    "#### Ejercicio 2 - Repaso de Pandas\n",
    "Realicen una estadistica descriptiva ambas series de indicadores del Ministerio de Ganaderia y  presente en una tabla en su reporte. Dicha tabla debe mostrar: numero de observaciones, media, desvío standard, min, p25, mediana, p75 y max. Comente la tabla en **el reporte**."
   ]
  },
  {
   "cell_type": "code",
   "execution_count": 8,
   "metadata": {},
   "outputs": [
    {
     "data": {
      "text/html": [
       "<div>\n",
       "<style scoped>\n",
       "    .dataframe tbody tr th:only-of-type {\n",
       "        vertical-align: middle;\n",
       "    }\n",
       "\n",
       "    .dataframe tbody tr th {\n",
       "        vertical-align: top;\n",
       "    }\n",
       "\n",
       "    .dataframe thead th {\n",
       "        text-align: right;\n",
       "    }\n",
       "</style>\n",
       "<table border=\"1\" class=\"dataframe\">\n",
       "  <thead>\n",
       "    <tr style=\"text-align: right;\">\n",
       "      <th></th>\n",
       "      <th>soja_hectareas</th>\n",
       "      <th>trigo_hectareas</th>\n",
       "    </tr>\n",
       "  </thead>\n",
       "  <tbody>\n",
       "    <tr>\n",
       "      <th>count</th>\n",
       "      <td>46.00</td>\n",
       "      <td>46.00</td>\n",
       "    </tr>\n",
       "    <tr>\n",
       "      <th>mean</th>\n",
       "      <td>11278732.72</td>\n",
       "      <td>5658640.98</td>\n",
       "    </tr>\n",
       "    <tr>\n",
       "      <th>std</th>\n",
       "      <td>6456155.25</td>\n",
       "      <td>1001537.80</td>\n",
       "    </tr>\n",
       "    <tr>\n",
       "      <th>min</th>\n",
       "      <td>1925000.00</td>\n",
       "      <td>3160000.00</td>\n",
       "    </tr>\n",
       "    <tr>\n",
       "      <th>25%</th>\n",
       "      <td>5028000.00</td>\n",
       "      <td>4932500.00</td>\n",
       "    </tr>\n",
       "    <tr>\n",
       "      <th>50%</th>\n",
       "      <td>12123000.00</td>\n",
       "      <td>5911985.00</td>\n",
       "    </tr>\n",
       "    <tr>\n",
       "      <th>75%</th>\n",
       "      <td>16975000.00</td>\n",
       "      <td>6300000.00</td>\n",
       "    </tr>\n",
       "    <tr>\n",
       "      <th>max</th>\n",
       "      <td>20479000.00</td>\n",
       "      <td>7410000.00</td>\n",
       "    </tr>\n",
       "  </tbody>\n",
       "</table>\n",
       "</div>"
      ],
      "text/plain": [
       "       soja_hectareas  trigo_hectareas\n",
       "count           46.00            46.00\n",
       "mean      11278732.72       5658640.98\n",
       "std        6456155.25       1001537.80\n",
       "min        1925000.00       3160000.00\n",
       "25%        5028000.00       4932500.00\n",
       "50%       12123000.00       5911985.00\n",
       "75%       16975000.00       6300000.00\n",
       "max       20479000.00       7410000.00"
      ]
     },
     "execution_count": 8,
     "metadata": {},
     "output_type": "execute_result"
    }
   ],
   "source": [
    "# Resolver acá\n",
    "### Juntamos las dos bases de datos en una sola. Ambas son del mismo periodo y con la misma frecuencia\n",
    "df = df_soja.merge(df_trigo)\n",
    "df\n",
    "###Armamos la tabla de estadisticas descriptivas\n",
    "pd.set_option('display.float_format', '{:.2f}'.format)\n",
    "df.describe()"
   ]
  },
  {
   "cell_type": "markdown",
   "metadata": {},
   "source": [
    "#### Ejercicio 3 - Practicando con Matplotlib\n",
    "Armen dos gráficos de tendencia distintos usando la librería Matplotlib (repasen Clase 3). Uno programandolo con el estilo *pyplot* y otro gráfico de estilo *orientada a objetos*.\n",
    "\n",
    "Recuerde los principios de visualización de datos y comente dichas figuras en su reporte."
   ]
  },
  {
   "cell_type": "code",
   "execution_count": null,
   "metadata": {},
   "outputs": [],
   "source": [
    "# Resolver acá estilo pyplot\n"
   ]
  },
  {
   "cell_type": "code",
   "execution_count": null,
   "metadata": {},
   "outputs": [],
   "source": [
    "# Resolver acá estilo orientado-objetos \n",
    "# Tip: aprovechar este estilo de programar una figura para hacerlo más lindo \n"
   ]
  },
  {
   "cell_type": "markdown",
   "metadata": {},
   "source": [
    "### Parte B"
   ]
  },
  {
   "cell_type": "markdown",
   "metadata": {},
   "source": [
    "#### Ejercicio 4 - Documentando noticias locales y en el extranjero\n",
    "Eligan dos sitios web de noticias: uno de Argentina y uno del extranjero (puede ser en castellano o en inglés como el *New York Times*).\n",
    "\n",
    "Utilicen herramientas de webscraping para obtener los **links** de las noticias de la portada en ambos diarios. Guarden cada titular con los links obtenidos en un dataframe. Por lo tanto, debe quedarles un dataframe de 4 columnas: una columna para noticias locales, otra para su link, otra columna de noticias extranjeras y una ultima columna de sus links. Luego, expórtenlo a un archivo de excel.\n",
    "\n",
    "En el reporte este esta parte B:\n",
    "1) Inserten una captura de pantalla de la pagina del diario extranjero y en Argentina de las cuales hacen el ejercicio de extraer titulares y sus links correspondientes. Esto servirá al momento de la corrección para verificar que los links obtenidos hacen referencia a las noticias de ese día y hora.\n",
    "2) Comenten brevemente (1 párrafo) las diferencias/similitudes al extraer titulares en diarios de Argentina versus diario extranjero\n",
    "3) Comenten brevemente (1 párrafo) las dificultades y cómo resolvieron dichas dificultades.\n",
    "\n",
    "*Nota*: es posible que logren obtener los links a las noticias sin el dominio: por ejemplo \"https://www.lanacion.com.ar/\". De ser así, concatenen el dominio a la ruta del link obtenido, tal que se obtenga un link al que se pueda acceder. Es decir, que las cadenas de caracteres finales tendrán la forma: https://www.lanacion.com.ar/*texto_obtenido*)"
   ]
  },
  {
   "cell_type": "code",
   "execution_count": null,
   "metadata": {},
   "outputs": [],
   "source": [
    "# Resolver acá\n"
   ]
  }
 ],
 "metadata": {
  "anaconda-cloud": {},
  "colab": {
   "name": "TP1 - Parte 1.ipynb",
   "provenance": []
  },
  "kernelspec": {
   "display_name": "Python [conda env:base] *",
   "language": "python",
   "name": "conda-base-py"
  },
  "language_info": {
   "codemirror_mode": {
    "name": "ipython",
    "version": 3
   },
   "file_extension": ".py",
   "mimetype": "text/x-python",
   "name": "python",
   "nbconvert_exporter": "python",
   "pygments_lexer": "ipython3",
   "version": "3.13.5"
  }
 },
 "nbformat": 4,
 "nbformat_minor": 4
}
